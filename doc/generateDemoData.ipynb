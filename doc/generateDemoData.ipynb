{
 "cells": [
  {
   "cell_type": "code",
   "execution_count": 52,
   "metadata": {},
   "outputs": [],
   "source": [
    "from faker import Faker\n",
    "import google.auth\n",
    "from google.cloud.sql.connector import Connector\n",
    "from google.auth.transport.requests import Request\n",
    "import sqlalchemy\n",
    "import random"
   ]
  },
  {
   "cell_type": "code",
   "execution_count": 54,
   "metadata": {},
   "outputs": [],
   "source": [
    "# initialize parameters\n",
    "# INSTANCE_CONNECTION_NAME = f\"{project_id}:{region}:{instance_name}\" # i.e demo-project:us-central1:demo-instance\n",
    "# print(f\"Your instance connection name is: {INSTANCE_CONNECTION_NAME}\")\n",
    "DB_USER = \"rustom\"\n",
    "DB_PASS = \"hasbulla\"\n",
    "DB_NAME = \"family-hub-database\"\n",
    "\n",
    "INSTANCE_CONNECTION_NAME = 'familyhub-366019:us-central1:family-hub-dev'\n",
    "current_user = !gcloud auth list --filter=status:ACTIVE --format=\"value(account)\"\n"
   ]
  },
  {
   "cell_type": "code",
   "execution_count": 89,
   "metadata": {},
   "outputs": [],
   "source": [
    "# initialize Connector object\n",
    "connector = Connector()\n",
    "\n",
    "# function to return the database connection object\n",
    "def getconn():\n",
    "    conn = connector.connect(\n",
    "        INSTANCE_CONNECTION_NAME,\n",
    "        \"pymysql\",\n",
    "        user=DB_USER,\n",
    "        password=DB_PASS,\n",
    "        db=DB_NAME\n",
    "    )\n",
    "    return conn\n",
    "\n",
    "# create connection pool with 'creator' argument to our connection object function\n",
    "pool = sqlalchemy.create_engine(\n",
    "    \"mysql+pymysql://\",\n",
    "    creator=getconn,\n",
    ")"
   ]
  },
  {
   "cell_type": "code",
   "execution_count": 90,
   "metadata": {},
   "outputs": [],
   "source": [
    "IAM_USER = current_user[0].split(\"@\")[0]\n",
    "\n",
    "# get application default credentials of IAM user (current logged in user)\n",
    "credentials, project = google.auth.default()\n",
    "\n",
    "# refresh credentials if expired\n",
    "if not credentials.valid:\n",
    "      request = Request()\n",
    "      credentials.refresh(request)"
   ]
  },
  {
   "cell_type": "code",
   "execution_count": 91,
   "metadata": {},
   "outputs": [
    {
     "name": "stdout",
     "output_type": "stream",
     "text": [
      "('Family',)\n",
      "('Membership',)\n",
      "('SubscriptionService',)\n",
      "('University',)\n",
      "('User',)\n"
     ]
    }
   ],
   "source": [
    "with pool.connect() as db_conn:\n",
    "    results = db_conn.execute('show tables;').fetchall()\n",
    "    \n",
    "    for row in results: \n",
    "        print(row)\n",
    "    "
   ]
  },
  {
   "cell_type": "code",
   "execution_count": 58,
   "metadata": {},
   "outputs": [],
   "source": [
    "fake = Faker()"
   ]
  },
  {
   "cell_type": "code",
   "execution_count": 59,
   "metadata": {},
   "outputs": [
    {
     "data": {
      "text/plain": [
       "'David Davis'"
      ]
     },
     "execution_count": 59,
     "metadata": {},
     "output_type": "execute_result"
    }
   ],
   "source": [
    "fake.name()"
   ]
  },
  {
   "cell_type": "code",
   "execution_count": 26,
   "metadata": {},
   "outputs": [],
   "source": [
    "from unicodedata import unidata_version\n",
    "\n",
    "with pool.connect() as con: \n",
    "    insert_statement = sqlalchemy.text(\n",
    "        'insert into University (universityID, universityName, city) values (:universityID, :universityName, :city)'\n",
    "    )\n",
    "\n",
    "    con.execute(insert_statement, \n",
    "        universityID=0, \n",
    "        universityName='University of Illinois at Urbana-Champaign', \n",
    "        city='Champaign, IL'\n",
    "        )\n",
    "    \n",
    "    con.execute(insert_statement, \n",
    "        universityID=1, \n",
    "        universityName='Harvard University',\n",
    "        city='Cambridge, MA'\n",
    "        )\n",
    "\n",
    "    con.execute(insert_statement, \n",
    "        universityID=2,\n",
    "        universityName='Harper College',\n",
    "        city='Palatine, IL'\n",
    "        )\n",
    "\n",
    "    con.execute(insert_statement, \n",
    "        universityID=3, \n",
    "        universityName='Northwestern University', \n",
    "        city='Evanston, IL'\n",
    "        )\n",
    "\n",
    "    con.execute(insert_statement, \n",
    "        universityID=4, \n",
    "        universityName='Massachusetts Institute of Technology', \n",
    "        city='Cambridge, MA'\n",
    "        )\n",
    "\n",
    "    con.execute(insert_statement, \n",
    "        universityID=5, \n",
    "        universityName='Yale University',\n",
    "        city='New Haven, CT'\n",
    "        )"
   ]
  },
  {
   "cell_type": "code",
   "execution_count": 60,
   "metadata": {},
   "outputs": [
    {
     "name": "stdout",
     "output_type": "stream",
     "text": [
      "[(0, 'University of Illinois at Urbana-Champaign', 'Champaign, IL'), (1, 'Harvard University', 'Cambridge, MA'), (2, 'Harper College', 'Palatine, IL'), (3, 'Northwestern University', 'Evanston, IL'), (4, 'Massachusetts Institute of Technology', 'Cambridge, MA'), (5, 'Yale University', 'New Haven, CT')]\n"
     ]
    }
   ],
   "source": [
    "with pool.connect() as con: \n",
    "    results = con.execute('select * from University;').fetchall()\n",
    "    print(results)"
   ]
  },
  {
   "cell_type": "code",
   "execution_count": 61,
   "metadata": {},
   "outputs": [
    {
     "data": {
      "text/plain": [
       "'Jones'"
      ]
     },
     "execution_count": 61,
     "metadata": {},
     "output_type": "execute_result"
    }
   ],
   "source": [
    "fake.first_name()\n",
    "fake.last_name()"
   ]
  },
  {
   "cell_type": "code",
   "execution_count": 63,
   "metadata": {},
   "outputs": [],
   "source": [
    "with pool.connect() as con: \n",
    "    con.execute('delete from User;')"
   ]
  },
  {
   "cell_type": "code",
   "execution_count": 67,
   "metadata": {},
   "outputs": [],
   "source": [
    "with pool.connect() as con: \n",
    "    statement = sqlalchemy.text(\n",
    "        'insert into User (userID, userName, email, universityID) values (:userID, :userName, :email, :universityID);'\n",
    "    )\n",
    "\n",
    "    for i in range(3001,5000): \n",
    "        first_name = fake.first_name()\n",
    "        last_name = fake.last_name()\n",
    "        email = first_name + '.' + last_name + '@example.com'\n",
    "        con.execute(statement, userID=i, userName=first_name + ' ' + last_name, email=email, universityID=random.randint(0, 5))"
   ]
  },
  {
   "cell_type": "code",
   "execution_count": 65,
   "metadata": {},
   "outputs": [],
   "source": [
    "# with pool.connect() as con: \n",
    "#     con.execute('delete from SubscriptionService where serviceName = \"Netflix\";')"
   ]
  },
  {
   "cell_type": "code",
   "execution_count": 47,
   "metadata": {},
   "outputs": [],
   "source": [
    "with pool.connect() as con: \n",
    "    statement = sqlalchemy.text(\n",
    "        'insert into SubscriptionService (serviceName, price, maxMembers) values (:serviceName, :price, :maxMembers);'\n",
    "    )\n",
    "\n",
    "    con.execute(statement, serviceName='Netflix', price=19.99, maxMembers=4)\n",
    "    con.execute(statement, serviceName='Spotify', price=15.99, maxMembers=6)\n",
    "    con.execute(statement, serviceName='Disney+', price=19.99, maxMembers=4)\n",
    "    con.execute(statement, serviceName='Amazon Prime Video', price=14.99, maxMembers=3)\n",
    "    con.execute(statement, serviceName='Hulu', price=12.99, maxMembers=2)"
   ]
  },
  {
   "cell_type": "code",
   "execution_count": 66,
   "metadata": {},
   "outputs": [
    {
     "name": "stdout",
     "output_type": "stream",
     "text": [
      "[('Amazon Prime Video', Decimal('14.99'), 3), ('Disney+', Decimal('19.99'), 4), ('Hulu', Decimal('12.99'), 2), ('Netflix', Decimal('19.99'), 4), ('Spotify', Decimal('15.99'), 6)]\n"
     ]
    }
   ],
   "source": [
    "with pool.connect() as con: \n",
    "    results = con.execute('select * from SubscriptionService;').fetchall()\n",
    "    print(results)"
   ]
  },
  {
   "cell_type": "code",
   "execution_count": 86,
   "metadata": {},
   "outputs": [],
   "source": [
    "services = ['Netflix', 'Spotify', 'Disney+', 'Amazon Prime Video', 'Hulu']\n",
    "n_families = 1000\n",
    "n_users = 5000\n",
    "n_members = 3000\n",
    "userIDs = [i for i in range(n_users)]\n",
    "familyIDs = [i for i in range(n_families)]\n",
    "leaderIDs = random.choices(userIDs, k=n_families)#.sample(userIDs, n_families)\n",
    "accessTypes = ['Open' if random.random() < 0.7 else 'Closed' for _ in range(n_families)]\n",
    "serviceNames = [services[random.randint(0, 4)] for _ in range(n_families)]\n",
    "\n",
    "memberIDs = [i for i in range(n_members)]\n",
    "\n",
    "statuses = ['Accepted', 'Pending', 'Rejected']\n",
    "member_statuses = random.choices(statuses, weights=[6, 1, 1], k=n_members)\n",
    "\n",
    "memberships = []\n",
    "# Do all leader memberships\n",
    "for i in range(len(leaderIDs)): \n",
    "    memberships.append((leaderIDs[i], familyIDs[i], 'Accepted'))\n",
    "\n",
    "# Do all other memberships\n",
    "for i in range(n_members): \n",
    "    userID = userIDs[random.randint(0, len(userIDs) - 1)]\n",
    "    familyID = familyIDs[random.randint(0, len(familyIDs) - 1)]\n",
    "    memberships.append((userID, familyID, member_statuses[i]))"
   ]
  },
  {
   "cell_type": "code",
   "execution_count": 87,
   "metadata": {},
   "outputs": [
    {
     "data": {
      "text/plain": [
       "4000"
      ]
     },
     "execution_count": 87,
     "metadata": {},
     "output_type": "execute_result"
    }
   ],
   "source": [
    "len(set(memberships))"
   ]
  },
  {
   "cell_type": "code",
   "execution_count": 98,
   "metadata": {},
   "outputs": [],
   "source": [
    "with pool.connect() as con: \n",
    "    statement = sqlalchemy.text(\n",
    "        'insert into Family (familyID, leaderID, accessType, serviceName) values (:familyID, :leaderID, :accessType, :serviceName);'\n",
    "    )\n",
    "\n",
    "    for i in range(len(familyIDs)): \n",
    "        con.execute(statement, familyID=familyIDs[i], leaderID=leaderIDs[i], accessType=accessTypes[i], serviceName=serviceNames[i])\n"
   ]
  },
  {
   "cell_type": "code",
   "execution_count": 99,
   "metadata": {},
   "outputs": [],
   "source": [
    "with pool.connect() as con: \n",
    "    statement = sqlalchemy.text(\n",
    "        'insert into Membership (memberID, familyID, memberStatus) values (:memberID, :familyID, :memberStatus);'\n",
    "    )\n",
    "\n",
    "    for membership in memberships: \n",
    "        con.execute(statement, memberID=membership[0], familyID=membership[1], memberStatus=membership[2])\n"
   ]
  },
  {
   "cell_type": "code",
   "execution_count": 105,
   "metadata": {},
   "outputs": [
    {
     "name": "stdout",
     "output_type": "stream",
     "text": [
      "[(1000,)]\n"
     ]
    }
   ],
   "source": [
    "with pool.connect() as con: \n",
    "    result = con.execute('select count(*) from Family;').fetchall()\n",
    "    print(result)"
   ]
  }
 ],
 "metadata": {
  "kernelspec": {
   "display_name": "Python 3.8.5 ('base')",
   "language": "python",
   "name": "python3"
  },
  "language_info": {
   "codemirror_mode": {
    "name": "ipython",
    "version": 3
   },
   "file_extension": ".py",
   "mimetype": "text/x-python",
   "name": "python",
   "nbconvert_exporter": "python",
   "pygments_lexer": "ipython3",
   "version": "3.8.5"
  },
  "orig_nbformat": 4,
  "vscode": {
   "interpreter": {
    "hash": "9b0bee1d2004e17952c6ef238ff74e36f8786ffb1ba3a51a4bdde83bf6a72541"
   }
  }
 },
 "nbformat": 4,
 "nbformat_minor": 2
}
